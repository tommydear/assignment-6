{
 "cells": [
  {
   "cell_type": "code",
   "execution_count": 14,
   "id": "4ff79384",
   "metadata": {},
   "outputs": [
    {
     "name": "stdout",
     "output_type": "stream",
     "text": [
      "Guess a number between 1 and 10 untill you get it right:4\n",
      "Guess a number between 1 and 10 untill you get it right:5\n",
      "Guess a number between 1 and 10 untill you get it right:67\n",
      "Guess a number between 1 and 10 untill you get it right:8\n",
      "well guessed!\n"
     ]
    }
   ],
   "source": [
    "import random\n",
    "target_num, guess_num = random.randint(1, 10), 0\n",
    "while target_num !=guess_num:\n",
    "    guess_num = int(input('Guess a number between 1 and 10 untill you get it right:'))\n",
    "print('well guessed!')"
   ]
  },
  {
   "cell_type": "code",
   "execution_count": null,
   "id": "1f7b33e5",
   "metadata": {},
   "outputs": [],
   "source": []
  }
 ],
 "metadata": {
  "kernelspec": {
   "display_name": "Python 3 (ipykernel)",
   "language": "python",
   "name": "python3"
  },
  "language_info": {
   "codemirror_mode": {
    "name": "ipython",
    "version": 3
   },
   "file_extension": ".py",
   "mimetype": "text/x-python",
   "name": "python",
   "nbconvert_exporter": "python",
   "pygments_lexer": "ipython3",
   "version": "3.9.7"
  }
 },
 "nbformat": 4,
 "nbformat_minor": 5
}
